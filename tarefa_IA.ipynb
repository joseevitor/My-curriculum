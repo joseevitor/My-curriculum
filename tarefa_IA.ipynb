{
  "nbformat": 4,
  "nbformat_minor": 0,
  "metadata": {
    "colab": {
      "provenance": [],
      "authorship_tag": "ABX9TyNHFHxRehADAH04a5OUZd1Y",
      "include_colab_link": true
    },
    "kernelspec": {
      "name": "python3",
      "display_name": "Python 3"
    },
    "language_info": {
      "name": "python"
    }
  },
  "cells": [
    {
      "cell_type": "markdown",
      "metadata": {
        "id": "view-in-github",
        "colab_type": "text"
      },
      "source": [
        "<a href=\"https://colab.research.google.com/github/joseevitor/My-curriculum/blob/main/tarefa_IA.ipynb\" target=\"_parent\"><img src=\"https://colab.research.google.com/assets/colab-badge.svg\" alt=\"Open In Colab\"/></a>"
      ]
    },
    {
      "cell_type": "code",
      "source": [
        "# Decidi criar uma api, então as primeiras linhas são apenas para trazer o arquivo\n",
        "\n",
        "from google.colab import files"
      ],
      "metadata": {
        "id": "lZVhYFC_SWOb"
      },
      "execution_count": null,
      "outputs": []
    },
    {
      "cell_type": "code",
      "source": [
        "# aqui no caso tenho que colocar o json que peguei lá do proprio kaggle\n",
        "files.upload()"
      ],
      "metadata": {
        "colab": {
          "base_uri": "https://localhost:8080/",
          "height": 91
        },
        "id": "E2kwH29xSdwZ",
        "outputId": "47eaef09-ee35-4a8a-b81a-47fe5b9da527"
      },
      "execution_count": null,
      "outputs": [
        {
          "output_type": "display_data",
          "data": {
            "text/plain": [
              "<IPython.core.display.HTML object>"
            ],
            "text/html": [
              "\n",
              "     <input type=\"file\" id=\"files-0328c86d-fc22-466a-bbc1-20713f0fbaa7\" name=\"files[]\" multiple disabled\n",
              "        style=\"border:none\" />\n",
              "     <output id=\"result-0328c86d-fc22-466a-bbc1-20713f0fbaa7\">\n",
              "      Upload widget is only available when the cell has been executed in the\n",
              "      current browser session. Please rerun this cell to enable.\n",
              "      </output>\n",
              "      <script>// Copyright 2017 Google LLC\n",
              "//\n",
              "// Licensed under the Apache License, Version 2.0 (the \"License\");\n",
              "// you may not use this file except in compliance with the License.\n",
              "// You may obtain a copy of the License at\n",
              "//\n",
              "//      http://www.apache.org/licenses/LICENSE-2.0\n",
              "//\n",
              "// Unless required by applicable law or agreed to in writing, software\n",
              "// distributed under the License is distributed on an \"AS IS\" BASIS,\n",
              "// WITHOUT WARRANTIES OR CONDITIONS OF ANY KIND, either express or implied.\n",
              "// See the License for the specific language governing permissions and\n",
              "// limitations under the License.\n",
              "\n",
              "/**\n",
              " * @fileoverview Helpers for google.colab Python module.\n",
              " */\n",
              "(function(scope) {\n",
              "function span(text, styleAttributes = {}) {\n",
              "  const element = document.createElement('span');\n",
              "  element.textContent = text;\n",
              "  for (const key of Object.keys(styleAttributes)) {\n",
              "    element.style[key] = styleAttributes[key];\n",
              "  }\n",
              "  return element;\n",
              "}\n",
              "\n",
              "// Max number of bytes which will be uploaded at a time.\n",
              "const MAX_PAYLOAD_SIZE = 100 * 1024;\n",
              "\n",
              "function _uploadFiles(inputId, outputId) {\n",
              "  const steps = uploadFilesStep(inputId, outputId);\n",
              "  const outputElement = document.getElementById(outputId);\n",
              "  // Cache steps on the outputElement to make it available for the next call\n",
              "  // to uploadFilesContinue from Python.\n",
              "  outputElement.steps = steps;\n",
              "\n",
              "  return _uploadFilesContinue(outputId);\n",
              "}\n",
              "\n",
              "// This is roughly an async generator (not supported in the browser yet),\n",
              "// where there are multiple asynchronous steps and the Python side is going\n",
              "// to poll for completion of each step.\n",
              "// This uses a Promise to block the python side on completion of each step,\n",
              "// then passes the result of the previous step as the input to the next step.\n",
              "function _uploadFilesContinue(outputId) {\n",
              "  const outputElement = document.getElementById(outputId);\n",
              "  const steps = outputElement.steps;\n",
              "\n",
              "  const next = steps.next(outputElement.lastPromiseValue);\n",
              "  return Promise.resolve(next.value.promise).then((value) => {\n",
              "    // Cache the last promise value to make it available to the next\n",
              "    // step of the generator.\n",
              "    outputElement.lastPromiseValue = value;\n",
              "    return next.value.response;\n",
              "  });\n",
              "}\n",
              "\n",
              "/**\n",
              " * Generator function which is called between each async step of the upload\n",
              " * process.\n",
              " * @param {string} inputId Element ID of the input file picker element.\n",
              " * @param {string} outputId Element ID of the output display.\n",
              " * @return {!Iterable<!Object>} Iterable of next steps.\n",
              " */\n",
              "function* uploadFilesStep(inputId, outputId) {\n",
              "  const inputElement = document.getElementById(inputId);\n",
              "  inputElement.disabled = false;\n",
              "\n",
              "  const outputElement = document.getElementById(outputId);\n",
              "  outputElement.innerHTML = '';\n",
              "\n",
              "  const pickedPromise = new Promise((resolve) => {\n",
              "    inputElement.addEventListener('change', (e) => {\n",
              "      resolve(e.target.files);\n",
              "    });\n",
              "  });\n",
              "\n",
              "  const cancel = document.createElement('button');\n",
              "  inputElement.parentElement.appendChild(cancel);\n",
              "  cancel.textContent = 'Cancel upload';\n",
              "  const cancelPromise = new Promise((resolve) => {\n",
              "    cancel.onclick = () => {\n",
              "      resolve(null);\n",
              "    };\n",
              "  });\n",
              "\n",
              "  // Wait for the user to pick the files.\n",
              "  const files = yield {\n",
              "    promise: Promise.race([pickedPromise, cancelPromise]),\n",
              "    response: {\n",
              "      action: 'starting',\n",
              "    }\n",
              "  };\n",
              "\n",
              "  cancel.remove();\n",
              "\n",
              "  // Disable the input element since further picks are not allowed.\n",
              "  inputElement.disabled = true;\n",
              "\n",
              "  if (!files) {\n",
              "    return {\n",
              "      response: {\n",
              "        action: 'complete',\n",
              "      }\n",
              "    };\n",
              "  }\n",
              "\n",
              "  for (const file of files) {\n",
              "    const li = document.createElement('li');\n",
              "    li.append(span(file.name, {fontWeight: 'bold'}));\n",
              "    li.append(span(\n",
              "        `(${file.type || 'n/a'}) - ${file.size} bytes, ` +\n",
              "        `last modified: ${\n",
              "            file.lastModifiedDate ? file.lastModifiedDate.toLocaleDateString() :\n",
              "                                    'n/a'} - `));\n",
              "    const percent = span('0% done');\n",
              "    li.appendChild(percent);\n",
              "\n",
              "    outputElement.appendChild(li);\n",
              "\n",
              "    const fileDataPromise = new Promise((resolve) => {\n",
              "      const reader = new FileReader();\n",
              "      reader.onload = (e) => {\n",
              "        resolve(e.target.result);\n",
              "      };\n",
              "      reader.readAsArrayBuffer(file);\n",
              "    });\n",
              "    // Wait for the data to be ready.\n",
              "    let fileData = yield {\n",
              "      promise: fileDataPromise,\n",
              "      response: {\n",
              "        action: 'continue',\n",
              "      }\n",
              "    };\n",
              "\n",
              "    // Use a chunked sending to avoid message size limits. See b/62115660.\n",
              "    let position = 0;\n",
              "    do {\n",
              "      const length = Math.min(fileData.byteLength - position, MAX_PAYLOAD_SIZE);\n",
              "      const chunk = new Uint8Array(fileData, position, length);\n",
              "      position += length;\n",
              "\n",
              "      const base64 = btoa(String.fromCharCode.apply(null, chunk));\n",
              "      yield {\n",
              "        response: {\n",
              "          action: 'append',\n",
              "          file: file.name,\n",
              "          data: base64,\n",
              "        },\n",
              "      };\n",
              "\n",
              "      let percentDone = fileData.byteLength === 0 ?\n",
              "          100 :\n",
              "          Math.round((position / fileData.byteLength) * 100);\n",
              "      percent.textContent = `${percentDone}% done`;\n",
              "\n",
              "    } while (position < fileData.byteLength);\n",
              "  }\n",
              "\n",
              "  // All done.\n",
              "  yield {\n",
              "    response: {\n",
              "      action: 'complete',\n",
              "    }\n",
              "  };\n",
              "}\n",
              "\n",
              "scope.google = scope.google || {};\n",
              "scope.google.colab = scope.google.colab || {};\n",
              "scope.google.colab._files = {\n",
              "  _uploadFiles,\n",
              "  _uploadFilesContinue,\n",
              "};\n",
              "})(self);\n",
              "</script> "
            ]
          },
          "metadata": {}
        },
        {
          "output_type": "stream",
          "name": "stdout",
          "text": [
            "Saving kaggle.json to kaggle.json\n"
          ]
        },
        {
          "output_type": "execute_result",
          "data": {
            "text/plain": [
              "{'kaggle.json': b'{\"username\":\"josevitormiranda\",\"key\":\"c79575ce05d6c45b2aa85350d590fed8\"}'}"
            ]
          },
          "metadata": {},
          "execution_count": 2
        }
      ]
    },
    {
      "cell_type": "code",
      "source": [
        "# instalação padrao pra adicionar o kaggle aqui no colab\n",
        "!pip install kaggle -q"
      ],
      "metadata": {
        "id": "d_fFynV4239U"
      },
      "execution_count": null,
      "outputs": []
    },
    {
      "cell_type": "code",
      "source": [
        "# aqui eu crio um novo direotio, que é onde vou trabalhar\n",
        "!mkdir -p ~/.kaggle"
      ],
      "metadata": {
        "id": "pA9d9utB3fwl"
      },
      "execution_count": null,
      "outputs": []
    },
    {
      "cell_type": "code",
      "source": [
        "#faço uma copia para o diretorio que falei\n",
        "!cp kaggle.json ~/.kaggle\n"
      ],
      "metadata": {
        "id": "UqNYCo_vadjA"
      },
      "execution_count": null,
      "outputs": []
    },
    {
      "cell_type": "code",
      "source": [
        "# na documentação dizia pra fazer isso pra evitar erro, e como tive muitos problemas decidir deixar aqui\n",
        "!chmod 600 ~/.kaggle/kaggle.json"
      ],
      "metadata": {
        "id": "HXwUOKXTTZGw"
      },
      "execution_count": null,
      "outputs": []
    },
    {
      "cell_type": "code",
      "source": [
        "#aqui mostra que a API estava funcionando, mostrando datasets disponiveis\n",
        "!kaggle datasets list"
      ],
      "metadata": {
        "colab": {
          "base_uri": "https://localhost:8080/"
        },
        "id": "y4YAILxMTket",
        "outputId": "6356b3f6-ff9f-4096-a336-402cab1896a9"
      },
      "execution_count": null,
      "outputs": [
        {
          "output_type": "stream",
          "name": "stdout",
          "text": [
            "ref                                                                  title                                             size  lastUpdated          downloadCount  voteCount  usabilityRating  \n",
            "-------------------------------------------------------------------  -----------------------------------------------  -----  -------------------  -------------  ---------  ---------------  \n",
            "shreyanshverma27/online-sales-dataset-popular-marketplace-data       Online Sales Dataset - Popular Marketplace Data    7KB  2024-05-25 23:55:26           9434        167  1.0              \n",
            "teocalvo/teomewhy-loyalty-system                                     TeoMeWhy Loyalty System                           23MB  2024-06-20 11:05:17            276        404  1.0              \n",
            "zeesolver/data-eng-salary-2024                                       Data Developer Salary in 2024💰                   108KB  2024-06-10 07:33:22           1541         25  1.0              \n",
            "sahilprajapati143/retail-analysis-large-dataset                      Retail Analysis on Large Dataset                  26MB  2024-06-14 18:32:07            899         23  1.0              \n",
            "rabieelkharoua/students-performance-dataset                          📚 Students Performance Dataset 📚                  66KB  2024-06-12 23:09:20           2021         44  1.0              \n",
            "damirdizdarevic/uefa-euro-2024-players                               UEFA EURO 2024 - Players                          15KB  2024-06-08 18:07:29           2220         49  1.0              \n",
            "artermiloff/steam-games-dataset                                      Steam Games Dataset 2024                         201MB  2024-06-17 15:37:16            706         31  1.0              \n",
            "akashnath29/lung-cancer-dataset                                      Lung Cancer Dataset                               51KB  2024-06-15 05:53:47           1119         27  0.9375           \n",
            "danghuutri/netflix-movies                                            Netflix movies                                   371KB  2024-06-15 14:33:14           1330         36  0.7058824        \n",
            "informrohit1/smartphones-dataset                                     Smartphones_Dataset                               23KB  2024-06-09 10:24:51           2632         51  1.0              \n",
            "nelgiriyewithana/most-streamed-spotify-songs-2024                    Most Streamed Spotify Songs 2024                 496KB  2024-06-15 18:50:51           1351         35  1.0              \n",
            "rabieelkharoua/cancer-prediction-dataset                             🩺📊 Cancer Prediction Dataset 🌟🔬                   47KB  2024-06-10 03:54:18           2058         47  1.0              \n",
            "rabieelkharoua/chronic-kidney-disease-dataset-analysis               🩺 Chronic Kidney Disease Dataset 🩺               473KB  2024-06-10 17:06:13            816         27  1.0              \n",
            "muhammadroshaanriaz/e-commerce-trends-a-guide-to-leveraging-dataset  Exploring E-commerce Trends⭐️⭐️⭐️                 25KB  2024-06-12 18:07:11           1771         38  1.0              \n",
            "rabieelkharoua/air-quality-and-health-impact-dataset                 🌍 Air Quality and Health Impact Dataset🌍         511KB  2024-06-12 16:36:34            891         26  1.0              \n",
            "kanchana1990/e-commerce-furniture-dataset-2024                       E-commerce Furniture Dataset 2024                 81KB  2024-06-15 19:53:22            557         32  1.0              \n",
            "anuchhetry/product-sales                                             Product Sales Dataset                            176KB  2024-06-10 10:53:17           1204         25  0.9411765        \n",
            "rashadrmammadov/heart-disease-prediction                             Heart Disease prediction                          16KB  2024-06-12 07:29:56           1260         25  1.0              \n",
            "mjdskaggle/2024-population-projections-by-country                    2024 Population Projections by Country            16KB  2024-06-05 18:45:46           1693         31  1.0              \n",
            "shreyaskeote23/india-population-data                                 India population data                             10KB  2024-06-13 06:37:26            907         22  1.0              \n"
          ]
        }
      ]
    },
    {
      "cell_type": "code",
      "source": [
        "# pasta content onde irá receber o dataset que eu quero\n",
        "%cd /content/\n",
        "\n"
      ],
      "metadata": {
        "colab": {
          "base_uri": "https://localhost:8080/"
        },
        "id": "qqkaML7CT5YK",
        "outputId": "0f72e202-b8f5-4fc9-9498-575c1e42df1c"
      },
      "execution_count": null,
      "outputs": [
        {
          "output_type": "stream",
          "name": "stdout",
          "text": [
            "/content\n"
          ]
        }
      ]
    },
    {
      "cell_type": "code",
      "source": [],
      "metadata": {
        "id": "zwDOqM3bbrav"
      },
      "execution_count": null,
      "outputs": []
    },
    {
      "cell_type": "code",
      "source": [
        "# aqui é o momento que eu de fato pego o dataset que eu queria, aqui abaixo aparece uma linha de codigo comentada\n",
        "# pq esse era o código a ser inserido porém o kaggle estava negando, aí descobri que ele poderia ser \"privado\"\n",
        "# se é que posso chamar assim, então eu tive que colocar o author chuckephron e depois o nome do dataset pra acessar a pagina\n",
        "\n",
        "#!kaggle datasets download -d Popular_Spotify_Songs\n",
        "!kaggle datasets download -d chuckephron/leagueoflegends\n"
      ],
      "metadata": {
        "colab": {
          "base_uri": "https://localhost:8080/"
        },
        "id": "IQCHW_63VswG",
        "outputId": "a97762a6-9b0b-4f9f-e781-2c2052fa92b5"
      },
      "execution_count": null,
      "outputs": [
        {
          "output_type": "stream",
          "name": "stdout",
          "text": [
            "Dataset URL: https://www.kaggle.com/datasets/chuckephron/leagueoflegends\n",
            "License(s): CC0-1.0\n",
            "Downloading leagueoflegends.zip to /content\n",
            " 59% 18.0M/30.4M [00:00<00:00, 98.9MB/s]\n",
            "100% 30.4M/30.4M [00:00<00:00, 122MB/s] \n"
          ]
        }
      ]
    },
    {
      "cell_type": "code",
      "source": [
        "\n",
        "!unzip leagueoflegends.zip"
      ],
      "metadata": {
        "colab": {
          "base_uri": "https://localhost:8080/"
        },
        "id": "NtT5KvJ5ULGu",
        "outputId": "2c4451eb-4c4b-4a4b-dee2-ba04d1a1fcf2"
      },
      "execution_count": null,
      "outputs": [
        {
          "output_type": "stream",
          "name": "stdout",
          "text": [
            "Archive:  leagueoflegends.zip\n",
            "  inflating: LeagueofLegends.csv     \n",
            "  inflating: _columns.csv            \n",
            "  inflating: bans.csv                \n",
            "  inflating: gold.csv                \n",
            "  inflating: kills.csv               \n",
            "  inflating: matchinfo.csv           \n",
            "  inflating: monsters.csv            \n",
            "  inflating: structures.csv          \n"
          ]
        }
      ]
    },
    {
      "cell_type": "code",
      "source": [
        "import pandas as pd"
      ],
      "metadata": {
        "id": "-1tLgutTUZRB"
      },
      "execution_count": null,
      "outputs": []
    },
    {
      "cell_type": "code",
      "source": [
        "# lendo meu dataframe e logo apos tirando algumas informações\n",
        "df = pd.read_csv('/content/LeagueofLegends.csv')"
      ],
      "metadata": {
        "id": "YOpuyCQDUu1q"
      },
      "execution_count": null,
      "outputs": []
    },
    {
      "cell_type": "code",
      "source": [
        "df.head()"
      ],
      "metadata": {
        "colab": {
          "base_uri": "https://localhost:8080/",
          "height": 725
        },
        "id": "S6ZRBe3cipL-",
        "outputId": "85621376-fa09-45cc-d09c-13aca201fb83"
      },
      "execution_count": null,
      "outputs": [
        {
          "output_type": "execute_result",
          "data": {
            "text/plain": [
              "  League  Year  Season    Type blueTeamTag  bResult  rResult redTeamTag  \\\n",
              "0  NALCS  2015  Spring  Season         TSM        1        0         C9   \n",
              "1  NALCS  2015  Spring  Season         CST        0        1        DIG   \n",
              "2  NALCS  2015  Spring  Season         WFX        1        0         GV   \n",
              "3  NALCS  2015  Spring  Season         TIP        0        1         TL   \n",
              "4  NALCS  2015  Spring  Season         CLG        1        0         T8   \n",
              "\n",
              "   gamelength                                           golddiff  ...  \\\n",
              "0          40  [0, 0, -14, -65, -268, -431, -488, -789, -494,...  ...   \n",
              "1          38  [0, 0, -26, -18, 147, 237, -152, 18, 88, -242,...  ...   \n",
              "2          40  [0, 0, 10, -60, 34, 37, 589, 1064, 1258, 913, ...  ...   \n",
              "3          41  [0, 0, -15, 25, 228, -6, -243, 175, -346, 16, ...  ...   \n",
              "4          35  [40, 40, 44, -36, 113, 158, -121, -191, 23, 20...  ...   \n",
              "\n",
              "  redMiddleChamp                                      goldredMiddle  \\\n",
              "0           Fizz  [475, 475, 552, 842, 1178, 1378, 1635, 1949, 2...   \n",
              "1           Azir  [475, 475, 552, 786, 1097, 1389, 1660, 1955, 2...   \n",
              "2           Azir  [475, 475, 533, 801, 1006, 1233, 1385, 1720, 1...   \n",
              "3           Lulu  [475, 475, 532, 771, 1046, 1288, 1534, 1776, 2...   \n",
              "4           Lulu  [475, 475, 532, 807, 1042, 1338, 1646, 1951, 2...   \n",
              "\n",
              "         redADC redADCChamp  \\\n",
              "0        Sneaky       Sivir   \n",
              "1        CoreJJ       Corki   \n",
              "2           Cop       Corki   \n",
              "3         KEITH      KogMaw   \n",
              "4  Maplestreet8       Corki   \n",
              "\n",
              "                                          goldredADC   redSupport  \\\n",
              "0  [475, 475, 532, 762, 1097, 1469, 1726, 2112, 2...  LemonNation   \n",
              "1  [475, 475, 532, 868, 1220, 1445, 1732, 1979, 2...      KiWiKiD   \n",
              "2  [475, 475, 533, 781, 1085, 1398, 1782, 1957, 2...   BunnyFuFuu   \n",
              "3  [475, 475, 532, 766, 1161, 1438, 1776, 1936, 2...      Xpecial   \n",
              "4  [475, 475, 532, 792, 1187, 1488, 1832, 2136, 2...        Dodo8   \n",
              "\n",
              "  redSupportChamp                                     goldredSupport  \\\n",
              "0          Thresh  [515, 515, 577, 722, 911, 1042, 1194, 1370, 14...   \n",
              "1           Annie  [515, 515, 583, 752, 900, 1066, 1236, 1417, 15...   \n",
              "2           Janna  [515, 515, 584, 721, 858, 1002, 1168, 1303, 14...   \n",
              "3           Janna  [515, 515, 583, 721, 870, 1059, 1205, 1342, 15...   \n",
              "4           Annie  [475, 475, 538, 671, 817, 948, 1104, 1240, 136...   \n",
              "\n",
              "                              redBans  \\\n",
              "0  ['Tristana', 'Leblanc', 'Nidalee']   \n",
              "1      ['RekSai', 'Janna', 'Leblanc']   \n",
              "2        ['Leblanc', 'Zed', 'RekSai']   \n",
              "3      ['RekSai', 'Rumble', 'LeeSin']   \n",
              "4       ['Rumble', 'Sivir', 'Rengar']   \n",
              "\n",
              "                                             Address  \n",
              "0  http://matchhistory.na.leagueoflegends.com/en/...  \n",
              "1  http://matchhistory.na.leagueoflegends.com/en/...  \n",
              "2  http://matchhistory.na.leagueoflegends.com/en/...  \n",
              "3  http://matchhistory.na.leagueoflegends.com/en/...  \n",
              "4  http://matchhistory.na.leagueoflegends.com/en/...  \n",
              "\n",
              "[5 rows x 57 columns]"
            ],
            "text/html": [
              "\n",
              "  <div id=\"df-3bd1243c-237e-4133-8957-1c3027a20e08\" class=\"colab-df-container\">\n",
              "    <div>\n",
              "<style scoped>\n",
              "    .dataframe tbody tr th:only-of-type {\n",
              "        vertical-align: middle;\n",
              "    }\n",
              "\n",
              "    .dataframe tbody tr th {\n",
              "        vertical-align: top;\n",
              "    }\n",
              "\n",
              "    .dataframe thead th {\n",
              "        text-align: right;\n",
              "    }\n",
              "</style>\n",
              "<table border=\"1\" class=\"dataframe\">\n",
              "  <thead>\n",
              "    <tr style=\"text-align: right;\">\n",
              "      <th></th>\n",
              "      <th>League</th>\n",
              "      <th>Year</th>\n",
              "      <th>Season</th>\n",
              "      <th>Type</th>\n",
              "      <th>blueTeamTag</th>\n",
              "      <th>bResult</th>\n",
              "      <th>rResult</th>\n",
              "      <th>redTeamTag</th>\n",
              "      <th>gamelength</th>\n",
              "      <th>golddiff</th>\n",
              "      <th>...</th>\n",
              "      <th>redMiddleChamp</th>\n",
              "      <th>goldredMiddle</th>\n",
              "      <th>redADC</th>\n",
              "      <th>redADCChamp</th>\n",
              "      <th>goldredADC</th>\n",
              "      <th>redSupport</th>\n",
              "      <th>redSupportChamp</th>\n",
              "      <th>goldredSupport</th>\n",
              "      <th>redBans</th>\n",
              "      <th>Address</th>\n",
              "    </tr>\n",
              "  </thead>\n",
              "  <tbody>\n",
              "    <tr>\n",
              "      <th>0</th>\n",
              "      <td>NALCS</td>\n",
              "      <td>2015</td>\n",
              "      <td>Spring</td>\n",
              "      <td>Season</td>\n",
              "      <td>TSM</td>\n",
              "      <td>1</td>\n",
              "      <td>0</td>\n",
              "      <td>C9</td>\n",
              "      <td>40</td>\n",
              "      <td>[0, 0, -14, -65, -268, -431, -488, -789, -494,...</td>\n",
              "      <td>...</td>\n",
              "      <td>Fizz</td>\n",
              "      <td>[475, 475, 552, 842, 1178, 1378, 1635, 1949, 2...</td>\n",
              "      <td>Sneaky</td>\n",
              "      <td>Sivir</td>\n",
              "      <td>[475, 475, 532, 762, 1097, 1469, 1726, 2112, 2...</td>\n",
              "      <td>LemonNation</td>\n",
              "      <td>Thresh</td>\n",
              "      <td>[515, 515, 577, 722, 911, 1042, 1194, 1370, 14...</td>\n",
              "      <td>['Tristana', 'Leblanc', 'Nidalee']</td>\n",
              "      <td>http://matchhistory.na.leagueoflegends.com/en/...</td>\n",
              "    </tr>\n",
              "    <tr>\n",
              "      <th>1</th>\n",
              "      <td>NALCS</td>\n",
              "      <td>2015</td>\n",
              "      <td>Spring</td>\n",
              "      <td>Season</td>\n",
              "      <td>CST</td>\n",
              "      <td>0</td>\n",
              "      <td>1</td>\n",
              "      <td>DIG</td>\n",
              "      <td>38</td>\n",
              "      <td>[0, 0, -26, -18, 147, 237, -152, 18, 88, -242,...</td>\n",
              "      <td>...</td>\n",
              "      <td>Azir</td>\n",
              "      <td>[475, 475, 552, 786, 1097, 1389, 1660, 1955, 2...</td>\n",
              "      <td>CoreJJ</td>\n",
              "      <td>Corki</td>\n",
              "      <td>[475, 475, 532, 868, 1220, 1445, 1732, 1979, 2...</td>\n",
              "      <td>KiWiKiD</td>\n",
              "      <td>Annie</td>\n",
              "      <td>[515, 515, 583, 752, 900, 1066, 1236, 1417, 15...</td>\n",
              "      <td>['RekSai', 'Janna', 'Leblanc']</td>\n",
              "      <td>http://matchhistory.na.leagueoflegends.com/en/...</td>\n",
              "    </tr>\n",
              "    <tr>\n",
              "      <th>2</th>\n",
              "      <td>NALCS</td>\n",
              "      <td>2015</td>\n",
              "      <td>Spring</td>\n",
              "      <td>Season</td>\n",
              "      <td>WFX</td>\n",
              "      <td>1</td>\n",
              "      <td>0</td>\n",
              "      <td>GV</td>\n",
              "      <td>40</td>\n",
              "      <td>[0, 0, 10, -60, 34, 37, 589, 1064, 1258, 913, ...</td>\n",
              "      <td>...</td>\n",
              "      <td>Azir</td>\n",
              "      <td>[475, 475, 533, 801, 1006, 1233, 1385, 1720, 1...</td>\n",
              "      <td>Cop</td>\n",
              "      <td>Corki</td>\n",
              "      <td>[475, 475, 533, 781, 1085, 1398, 1782, 1957, 2...</td>\n",
              "      <td>BunnyFuFuu</td>\n",
              "      <td>Janna</td>\n",
              "      <td>[515, 515, 584, 721, 858, 1002, 1168, 1303, 14...</td>\n",
              "      <td>['Leblanc', 'Zed', 'RekSai']</td>\n",
              "      <td>http://matchhistory.na.leagueoflegends.com/en/...</td>\n",
              "    </tr>\n",
              "    <tr>\n",
              "      <th>3</th>\n",
              "      <td>NALCS</td>\n",
              "      <td>2015</td>\n",
              "      <td>Spring</td>\n",
              "      <td>Season</td>\n",
              "      <td>TIP</td>\n",
              "      <td>0</td>\n",
              "      <td>1</td>\n",
              "      <td>TL</td>\n",
              "      <td>41</td>\n",
              "      <td>[0, 0, -15, 25, 228, -6, -243, 175, -346, 16, ...</td>\n",
              "      <td>...</td>\n",
              "      <td>Lulu</td>\n",
              "      <td>[475, 475, 532, 771, 1046, 1288, 1534, 1776, 2...</td>\n",
              "      <td>KEITH</td>\n",
              "      <td>KogMaw</td>\n",
              "      <td>[475, 475, 532, 766, 1161, 1438, 1776, 1936, 2...</td>\n",
              "      <td>Xpecial</td>\n",
              "      <td>Janna</td>\n",
              "      <td>[515, 515, 583, 721, 870, 1059, 1205, 1342, 15...</td>\n",
              "      <td>['RekSai', 'Rumble', 'LeeSin']</td>\n",
              "      <td>http://matchhistory.na.leagueoflegends.com/en/...</td>\n",
              "    </tr>\n",
              "    <tr>\n",
              "      <th>4</th>\n",
              "      <td>NALCS</td>\n",
              "      <td>2015</td>\n",
              "      <td>Spring</td>\n",
              "      <td>Season</td>\n",
              "      <td>CLG</td>\n",
              "      <td>1</td>\n",
              "      <td>0</td>\n",
              "      <td>T8</td>\n",
              "      <td>35</td>\n",
              "      <td>[40, 40, 44, -36, 113, 158, -121, -191, 23, 20...</td>\n",
              "      <td>...</td>\n",
              "      <td>Lulu</td>\n",
              "      <td>[475, 475, 532, 807, 1042, 1338, 1646, 1951, 2...</td>\n",
              "      <td>Maplestreet8</td>\n",
              "      <td>Corki</td>\n",
              "      <td>[475, 475, 532, 792, 1187, 1488, 1832, 2136, 2...</td>\n",
              "      <td>Dodo8</td>\n",
              "      <td>Annie</td>\n",
              "      <td>[475, 475, 538, 671, 817, 948, 1104, 1240, 136...</td>\n",
              "      <td>['Rumble', 'Sivir', 'Rengar']</td>\n",
              "      <td>http://matchhistory.na.leagueoflegends.com/en/...</td>\n",
              "    </tr>\n",
              "  </tbody>\n",
              "</table>\n",
              "<p>5 rows × 57 columns</p>\n",
              "</div>\n",
              "    <div class=\"colab-df-buttons\">\n",
              "\n",
              "  <div class=\"colab-df-container\">\n",
              "    <button class=\"colab-df-convert\" onclick=\"convertToInteractive('df-3bd1243c-237e-4133-8957-1c3027a20e08')\"\n",
              "            title=\"Convert this dataframe to an interactive table.\"\n",
              "            style=\"display:none;\">\n",
              "\n",
              "  <svg xmlns=\"http://www.w3.org/2000/svg\" height=\"24px\" viewBox=\"0 -960 960 960\">\n",
              "    <path d=\"M120-120v-720h720v720H120Zm60-500h600v-160H180v160Zm220 220h160v-160H400v160Zm0 220h160v-160H400v160ZM180-400h160v-160H180v160Zm440 0h160v-160H620v160ZM180-180h160v-160H180v160Zm440 0h160v-160H620v160Z\"/>\n",
              "  </svg>\n",
              "    </button>\n",
              "\n",
              "  <style>\n",
              "    .colab-df-container {\n",
              "      display:flex;\n",
              "      gap: 12px;\n",
              "    }\n",
              "\n",
              "    .colab-df-convert {\n",
              "      background-color: #E8F0FE;\n",
              "      border: none;\n",
              "      border-radius: 50%;\n",
              "      cursor: pointer;\n",
              "      display: none;\n",
              "      fill: #1967D2;\n",
              "      height: 32px;\n",
              "      padding: 0 0 0 0;\n",
              "      width: 32px;\n",
              "    }\n",
              "\n",
              "    .colab-df-convert:hover {\n",
              "      background-color: #E2EBFA;\n",
              "      box-shadow: 0px 1px 2px rgba(60, 64, 67, 0.3), 0px 1px 3px 1px rgba(60, 64, 67, 0.15);\n",
              "      fill: #174EA6;\n",
              "    }\n",
              "\n",
              "    .colab-df-buttons div {\n",
              "      margin-bottom: 4px;\n",
              "    }\n",
              "\n",
              "    [theme=dark] .colab-df-convert {\n",
              "      background-color: #3B4455;\n",
              "      fill: #D2E3FC;\n",
              "    }\n",
              "\n",
              "    [theme=dark] .colab-df-convert:hover {\n",
              "      background-color: #434B5C;\n",
              "      box-shadow: 0px 1px 3px 1px rgba(0, 0, 0, 0.15);\n",
              "      filter: drop-shadow(0px 1px 2px rgba(0, 0, 0, 0.3));\n",
              "      fill: #FFFFFF;\n",
              "    }\n",
              "  </style>\n",
              "\n",
              "    <script>\n",
              "      const buttonEl =\n",
              "        document.querySelector('#df-3bd1243c-237e-4133-8957-1c3027a20e08 button.colab-df-convert');\n",
              "      buttonEl.style.display =\n",
              "        google.colab.kernel.accessAllowed ? 'block' : 'none';\n",
              "\n",
              "      async function convertToInteractive(key) {\n",
              "        const element = document.querySelector('#df-3bd1243c-237e-4133-8957-1c3027a20e08');\n",
              "        const dataTable =\n",
              "          await google.colab.kernel.invokeFunction('convertToInteractive',\n",
              "                                                    [key], {});\n",
              "        if (!dataTable) return;\n",
              "\n",
              "        const docLinkHtml = 'Like what you see? Visit the ' +\n",
              "          '<a target=\"_blank\" href=https://colab.research.google.com/notebooks/data_table.ipynb>data table notebook</a>'\n",
              "          + ' to learn more about interactive tables.';\n",
              "        element.innerHTML = '';\n",
              "        dataTable['output_type'] = 'display_data';\n",
              "        await google.colab.output.renderOutput(dataTable, element);\n",
              "        const docLink = document.createElement('div');\n",
              "        docLink.innerHTML = docLinkHtml;\n",
              "        element.appendChild(docLink);\n",
              "      }\n",
              "    </script>\n",
              "  </div>\n",
              "\n",
              "\n",
              "<div id=\"df-7b24f3d9-9589-47a9-a123-61afd880ed79\">\n",
              "  <button class=\"colab-df-quickchart\" onclick=\"quickchart('df-7b24f3d9-9589-47a9-a123-61afd880ed79')\"\n",
              "            title=\"Suggest charts\"\n",
              "            style=\"display:none;\">\n",
              "\n",
              "<svg xmlns=\"http://www.w3.org/2000/svg\" height=\"24px\"viewBox=\"0 0 24 24\"\n",
              "     width=\"24px\">\n",
              "    <g>\n",
              "        <path d=\"M19 3H5c-1.1 0-2 .9-2 2v14c0 1.1.9 2 2 2h14c1.1 0 2-.9 2-2V5c0-1.1-.9-2-2-2zM9 17H7v-7h2v7zm4 0h-2V7h2v10zm4 0h-2v-4h2v4z\"/>\n",
              "    </g>\n",
              "</svg>\n",
              "  </button>\n",
              "\n",
              "<style>\n",
              "  .colab-df-quickchart {\n",
              "      --bg-color: #E8F0FE;\n",
              "      --fill-color: #1967D2;\n",
              "      --hover-bg-color: #E2EBFA;\n",
              "      --hover-fill-color: #174EA6;\n",
              "      --disabled-fill-color: #AAA;\n",
              "      --disabled-bg-color: #DDD;\n",
              "  }\n",
              "\n",
              "  [theme=dark] .colab-df-quickchart {\n",
              "      --bg-color: #3B4455;\n",
              "      --fill-color: #D2E3FC;\n",
              "      --hover-bg-color: #434B5C;\n",
              "      --hover-fill-color: #FFFFFF;\n",
              "      --disabled-bg-color: #3B4455;\n",
              "      --disabled-fill-color: #666;\n",
              "  }\n",
              "\n",
              "  .colab-df-quickchart {\n",
              "    background-color: var(--bg-color);\n",
              "    border: none;\n",
              "    border-radius: 50%;\n",
              "    cursor: pointer;\n",
              "    display: none;\n",
              "    fill: var(--fill-color);\n",
              "    height: 32px;\n",
              "    padding: 0;\n",
              "    width: 32px;\n",
              "  }\n",
              "\n",
              "  .colab-df-quickchart:hover {\n",
              "    background-color: var(--hover-bg-color);\n",
              "    box-shadow: 0 1px 2px rgba(60, 64, 67, 0.3), 0 1px 3px 1px rgba(60, 64, 67, 0.15);\n",
              "    fill: var(--button-hover-fill-color);\n",
              "  }\n",
              "\n",
              "  .colab-df-quickchart-complete:disabled,\n",
              "  .colab-df-quickchart-complete:disabled:hover {\n",
              "    background-color: var(--disabled-bg-color);\n",
              "    fill: var(--disabled-fill-color);\n",
              "    box-shadow: none;\n",
              "  }\n",
              "\n",
              "  .colab-df-spinner {\n",
              "    border: 2px solid var(--fill-color);\n",
              "    border-color: transparent;\n",
              "    border-bottom-color: var(--fill-color);\n",
              "    animation:\n",
              "      spin 1s steps(1) infinite;\n",
              "  }\n",
              "\n",
              "  @keyframes spin {\n",
              "    0% {\n",
              "      border-color: transparent;\n",
              "      border-bottom-color: var(--fill-color);\n",
              "      border-left-color: var(--fill-color);\n",
              "    }\n",
              "    20% {\n",
              "      border-color: transparent;\n",
              "      border-left-color: var(--fill-color);\n",
              "      border-top-color: var(--fill-color);\n",
              "    }\n",
              "    30% {\n",
              "      border-color: transparent;\n",
              "      border-left-color: var(--fill-color);\n",
              "      border-top-color: var(--fill-color);\n",
              "      border-right-color: var(--fill-color);\n",
              "    }\n",
              "    40% {\n",
              "      border-color: transparent;\n",
              "      border-right-color: var(--fill-color);\n",
              "      border-top-color: var(--fill-color);\n",
              "    }\n",
              "    60% {\n",
              "      border-color: transparent;\n",
              "      border-right-color: var(--fill-color);\n",
              "    }\n",
              "    80% {\n",
              "      border-color: transparent;\n",
              "      border-right-color: var(--fill-color);\n",
              "      border-bottom-color: var(--fill-color);\n",
              "    }\n",
              "    90% {\n",
              "      border-color: transparent;\n",
              "      border-bottom-color: var(--fill-color);\n",
              "    }\n",
              "  }\n",
              "</style>\n",
              "\n",
              "  <script>\n",
              "    async function quickchart(key) {\n",
              "      const quickchartButtonEl =\n",
              "        document.querySelector('#' + key + ' button');\n",
              "      quickchartButtonEl.disabled = true;  // To prevent multiple clicks.\n",
              "      quickchartButtonEl.classList.add('colab-df-spinner');\n",
              "      try {\n",
              "        const charts = await google.colab.kernel.invokeFunction(\n",
              "            'suggestCharts', [key], {});\n",
              "      } catch (error) {\n",
              "        console.error('Error during call to suggestCharts:', error);\n",
              "      }\n",
              "      quickchartButtonEl.classList.remove('colab-df-spinner');\n",
              "      quickchartButtonEl.classList.add('colab-df-quickchart-complete');\n",
              "    }\n",
              "    (() => {\n",
              "      let quickchartButtonEl =\n",
              "        document.querySelector('#df-7b24f3d9-9589-47a9-a123-61afd880ed79 button');\n",
              "      quickchartButtonEl.style.display =\n",
              "        google.colab.kernel.accessAllowed ? 'block' : 'none';\n",
              "    })();\n",
              "  </script>\n",
              "</div>\n",
              "\n",
              "    </div>\n",
              "  </div>\n"
            ],
            "application/vnd.google.colaboratory.intrinsic+json": {
              "type": "dataframe",
              "variable_name": "df"
            }
          },
          "metadata": {},
          "execution_count": 13
        }
      ]
    },
    {
      "cell_type": "code",
      "source": [
        "df.shape"
      ],
      "metadata": {
        "colab": {
          "base_uri": "https://localhost:8080/"
        },
        "id": "WJ2NHU_DkSrP",
        "outputId": "96a16a9c-39ec-4165-dde7-11502085e58c"
      },
      "execution_count": null,
      "outputs": [
        {
          "output_type": "execute_result",
          "data": {
            "text/plain": [
              "(7620, 57)"
            ]
          },
          "metadata": {},
          "execution_count": 14
        }
      ]
    },
    {
      "cell_type": "code",
      "source": [
        "X = df.iloc[:, 0:7].values"
      ],
      "metadata": {
        "id": "ORaMv6VlkZT7"
      },
      "execution_count": null,
      "outputs": []
    },
    {
      "cell_type": "code",
      "source": [
        "Y = df.iloc[:,7].values"
      ],
      "metadata": {
        "id": "-UTkLEA5ke1F"
      },
      "execution_count": null,
      "outputs": []
    },
    {
      "cell_type": "code",
      "source": [
        "from sklearn import tree"
      ],
      "metadata": {
        "id": "EW_kWf_NkiPv"
      },
      "execution_count": null,
      "outputs": []
    },
    {
      "cell_type": "code",
      "source": [
        "from sklearn.preprocessing import LabelEncoder"
      ],
      "metadata": {
        "id": "LP_aOb9ykvtE"
      },
      "execution_count": null,
      "outputs": []
    },
    {
      "cell_type": "code",
      "source": [
        "from sklearn.datasets import load_iris\n",
        "\n"
      ],
      "metadata": {
        "id": "G52PVMdcPqcS"
      },
      "execution_count": null,
      "outputs": []
    },
    {
      "cell_type": "code",
      "source": [
        "iris = load_iris()\n",
        "X = iris.data #caracteristica\n",
        "y = iris.target # rotulos"
      ],
      "metadata": {
        "id": "Bm5XBFB3P_q7"
      },
      "execution_count": null,
      "outputs": []
    },
    {
      "cell_type": "code",
      "source": [
        "\n",
        "print(df.isnull().sum())\n"
      ],
      "metadata": {
        "colab": {
          "base_uri": "https://localhost:8080/"
        },
        "id": "saVzqx0mQbC1",
        "outputId": "8cac5ca8-3073-434b-cdbc-3a6ad1883dae"
      },
      "execution_count": null,
      "outputs": [
        {
          "output_type": "stream",
          "name": "stdout",
          "text": [
            "League               0\n",
            "Year                 0\n",
            "Season               0\n",
            "Type                 0\n",
            "blueTeamTag         38\n",
            "bResult              0\n",
            "rResult              0\n",
            "redTeamTag          37\n",
            "gamelength           0\n",
            "golddiff             0\n",
            "goldblue             0\n",
            "bKills               0\n",
            "bTowers              0\n",
            "bInhibs              0\n",
            "bDragons             0\n",
            "bBarons              0\n",
            "bHeralds             0\n",
            "goldred              0\n",
            "rKills               0\n",
            "rTowers              0\n",
            "rInhibs              0\n",
            "rDragons             0\n",
            "rBarons              0\n",
            "rHeralds             0\n",
            "blueTop             37\n",
            "blueTopChamp         0\n",
            "goldblueTop          0\n",
            "blueJungle          28\n",
            "blueJungleChamp      0\n",
            "goldblueJungle       0\n",
            "blueMiddle          37\n",
            "blueMiddleChamp      0\n",
            "goldblueMiddle       0\n",
            "blueADC             37\n",
            "blueADCChamp         0\n",
            "goldblueADC          0\n",
            "blueSupport         37\n",
            "blueSupportChamp     0\n",
            "goldblueSupport      0\n",
            "blueBans             0\n",
            "redTop              37\n",
            "redTopChamp          0\n",
            "goldredTop           0\n",
            "redJungle           24\n",
            "redJungleChamp       0\n",
            "goldredJungle        0\n",
            "redMiddle           37\n",
            "redMiddleChamp       0\n",
            "goldredMiddle        0\n",
            "redADC              37\n",
            "redADCChamp          0\n",
            "goldredADC           0\n",
            "redSupport          37\n",
            "redSupportChamp      0\n",
            "goldredSupport       0\n",
            "redBans              0\n",
            "Address              0\n",
            "dtype: int64\n"
          ]
        }
      ]
    },
    {
      "cell_type": "code",
      "source": [
        "df = df.dropna()"
      ],
      "metadata": {
        "id": "eyiW8LKkRQfo"
      },
      "execution_count": null,
      "outputs": []
    },
    {
      "cell_type": "code",
      "source": [
        "print(df.info())"
      ],
      "metadata": {
        "colab": {
          "base_uri": "https://localhost:8080/"
        },
        "id": "qvjc6dVHRZyC",
        "outputId": "c6247b32-542e-4f9c-8ea7-832c3685c5a2"
      },
      "execution_count": null,
      "outputs": [
        {
          "output_type": "stream",
          "name": "stdout",
          "text": [
            "<class 'pandas.core.frame.DataFrame'>\n",
            "Index: 7582 entries, 0 to 7619\n",
            "Data columns (total 57 columns):\n",
            " #   Column            Non-Null Count  Dtype \n",
            "---  ------            --------------  ----- \n",
            " 0   League            7582 non-null   object\n",
            " 1   Year              7582 non-null   int64 \n",
            " 2   Season            7582 non-null   object\n",
            " 3   Type              7582 non-null   object\n",
            " 4   blueTeamTag       7582 non-null   object\n",
            " 5   bResult           7582 non-null   int64 \n",
            " 6   rResult           7582 non-null   int64 \n",
            " 7   redTeamTag        7582 non-null   object\n",
            " 8   gamelength        7582 non-null   int64 \n",
            " 9   golddiff          7582 non-null   object\n",
            " 10  goldblue          7582 non-null   object\n",
            " 11  bKills            7582 non-null   object\n",
            " 12  bTowers           7582 non-null   object\n",
            " 13  bInhibs           7582 non-null   object\n",
            " 14  bDragons          7582 non-null   object\n",
            " 15  bBarons           7582 non-null   object\n",
            " 16  bHeralds          7582 non-null   object\n",
            " 17  goldred           7582 non-null   object\n",
            " 18  rKills            7582 non-null   object\n",
            " 19  rTowers           7582 non-null   object\n",
            " 20  rInhibs           7582 non-null   object\n",
            " 21  rDragons          7582 non-null   object\n",
            " 22  rBarons           7582 non-null   object\n",
            " 23  rHeralds          7582 non-null   object\n",
            " 24  blueTop           7582 non-null   object\n",
            " 25  blueTopChamp      7582 non-null   object\n",
            " 26  goldblueTop       7582 non-null   object\n",
            " 27  blueJungle        7582 non-null   object\n",
            " 28  blueJungleChamp   7582 non-null   object\n",
            " 29  goldblueJungle    7582 non-null   object\n",
            " 30  blueMiddle        7582 non-null   object\n",
            " 31  blueMiddleChamp   7582 non-null   object\n",
            " 32  goldblueMiddle    7582 non-null   object\n",
            " 33  blueADC           7582 non-null   object\n",
            " 34  blueADCChamp      7582 non-null   object\n",
            " 35  goldblueADC       7582 non-null   object\n",
            " 36  blueSupport       7582 non-null   object\n",
            " 37  blueSupportChamp  7582 non-null   object\n",
            " 38  goldblueSupport   7582 non-null   object\n",
            " 39  blueBans          7582 non-null   object\n",
            " 40  redTop            7582 non-null   object\n",
            " 41  redTopChamp       7582 non-null   object\n",
            " 42  goldredTop        7582 non-null   object\n",
            " 43  redJungle         7582 non-null   object\n",
            " 44  redJungleChamp    7582 non-null   object\n",
            " 45  goldredJungle     7582 non-null   object\n",
            " 46  redMiddle         7582 non-null   object\n",
            " 47  redMiddleChamp    7582 non-null   object\n",
            " 48  goldredMiddle     7582 non-null   object\n",
            " 49  redADC            7582 non-null   object\n",
            " 50  redADCChamp       7582 non-null   object\n",
            " 51  goldredADC        7582 non-null   object\n",
            " 52  redSupport        7582 non-null   object\n",
            " 53  redSupportChamp   7582 non-null   object\n",
            " 54  goldredSupport    7582 non-null   object\n",
            " 55  redBans           7582 non-null   object\n",
            " 56  Address           7582 non-null   object\n",
            "dtypes: int64(4), object(53)\n",
            "memory usage: 3.4+ MB\n",
            "None\n"
          ]
        }
      ]
    },
    {
      "cell_type": "code",
      "source": [
        "# Tinha relativamente varios dados que eu gostaria de usar, mas era complicado visto que deviam ser repetidas e fazer comparações\n",
        "# aí usei o bResult que é 0 quando o time no blueside ganhou e 1 quando o time do blueside perdeu\n",
        "# Professor blueside e redside são apenas dois lados, como se fossem esquerdo e direito, existe uma comparação de que\n",
        "# times ganham amis em um lado que no outro\n",
        "\n",
        "colunas_desejadas = ['bResult', 'rResult', 'gamelength']"
      ],
      "metadata": {
        "id": "snabyCxRSYaN"
      },
      "execution_count": null,
      "outputs": []
    },
    {
      "cell_type": "code",
      "source": [
        "df = df[colunas_desejadas]"
      ],
      "metadata": {
        "id": "XWPkp5phac54"
      },
      "execution_count": null,
      "outputs": []
    },
    {
      "cell_type": "code",
      "source": [
        "print(df.info())"
      ],
      "metadata": {
        "colab": {
          "base_uri": "https://localhost:8080/"
        },
        "id": "SSzra6CBUx0c",
        "outputId": "3b989e6f-85c1-441f-a46c-cb0d22b9dc96"
      },
      "execution_count": null,
      "outputs": [
        {
          "output_type": "stream",
          "name": "stdout",
          "text": [
            "<class 'pandas.core.frame.DataFrame'>\n",
            "Index: 7582 entries, 0 to 7619\n",
            "Data columns (total 3 columns):\n",
            " #   Column      Non-Null Count  Dtype\n",
            "---  ------      --------------  -----\n",
            " 0   bResult     7582 non-null   int64\n",
            " 1   rResult     7582 non-null   int64\n",
            " 2   gamelength  7582 non-null   int64\n",
            "dtypes: int64(3)\n",
            "memory usage: 236.9 KB\n",
            "None\n"
          ]
        }
      ]
    },
    {
      "cell_type": "code",
      "source": [
        "# Dividir os dados em características (X) e rótulos (y)\n",
        "X = df.drop('gamelength', axis=1)\n",
        "y = df['bResult']"
      ],
      "metadata": {
        "id": "H_dcqXS1X0SK"
      },
      "execution_count": null,
      "outputs": []
    },
    {
      "cell_type": "code",
      "source": [
        "from sklearn.model_selection import train_test_split\n"
      ],
      "metadata": {
        "id": "hPUSpKdMYflX"
      },
      "execution_count": null,
      "outputs": []
    },
    {
      "cell_type": "code",
      "source": [
        "# Dividindo os dados em conjuntos para treinamento e teste\n",
        "X_train, X_test, y_train, y_test = train_test_split(X, y, test_size=0.2, random_state=42)"
      ],
      "metadata": {
        "id": "NiLGwTb0YdPU"
      },
      "execution_count": null,
      "outputs": []
    },
    {
      "cell_type": "code",
      "source": [
        "from sklearn.tree import DecisionTreeClassifier\n"
      ],
      "metadata": {
        "id": "e-Lt5pydYxJt"
      },
      "execution_count": null,
      "outputs": []
    },
    {
      "cell_type": "code",
      "source": [
        "avoredecisao = tree.DecisionTreeClassifier(criterion = 'entropy')\n",
        "\n"
      ],
      "metadata": {
        "id": "p3Nakrh5Ymv4"
      },
      "execution_count": null,
      "outputs": []
    },
    {
      "cell_type": "code",
      "source": [
        "\n",
        "# Criaando o classificador de árvore de decisão\n",
        "classificador = DecisionTreeClassifier(random_state=42)\n",
        "\n",
        "# Treinar o modelo\n",
        "classificador.fit(X_train, y_train)"
      ],
      "metadata": {
        "colab": {
          "base_uri": "https://localhost:8080/",
          "height": 75
        },
        "id": "fsw3xW2DZ6v9",
        "outputId": "84fb2799-c4ee-4654-eec6-be022ed7cfd1"
      },
      "execution_count": null,
      "outputs": [
        {
          "output_type": "execute_result",
          "data": {
            "text/plain": [
              "DecisionTreeClassifier(random_state=42)"
            ],
            "text/html": [
              "<style>#sk-container-id-1 {color: black;background-color: white;}#sk-container-id-1 pre{padding: 0;}#sk-container-id-1 div.sk-toggleable {background-color: white;}#sk-container-id-1 label.sk-toggleable__label {cursor: pointer;display: block;width: 100%;margin-bottom: 0;padding: 0.3em;box-sizing: border-box;text-align: center;}#sk-container-id-1 label.sk-toggleable__label-arrow:before {content: \"▸\";float: left;margin-right: 0.25em;color: #696969;}#sk-container-id-1 label.sk-toggleable__label-arrow:hover:before {color: black;}#sk-container-id-1 div.sk-estimator:hover label.sk-toggleable__label-arrow:before {color: black;}#sk-container-id-1 div.sk-toggleable__content {max-height: 0;max-width: 0;overflow: hidden;text-align: left;background-color: #f0f8ff;}#sk-container-id-1 div.sk-toggleable__content pre {margin: 0.2em;color: black;border-radius: 0.25em;background-color: #f0f8ff;}#sk-container-id-1 input.sk-toggleable__control:checked~div.sk-toggleable__content {max-height: 200px;max-width: 100%;overflow: auto;}#sk-container-id-1 input.sk-toggleable__control:checked~label.sk-toggleable__label-arrow:before {content: \"▾\";}#sk-container-id-1 div.sk-estimator input.sk-toggleable__control:checked~label.sk-toggleable__label {background-color: #d4ebff;}#sk-container-id-1 div.sk-label input.sk-toggleable__control:checked~label.sk-toggleable__label {background-color: #d4ebff;}#sk-container-id-1 input.sk-hidden--visually {border: 0;clip: rect(1px 1px 1px 1px);clip: rect(1px, 1px, 1px, 1px);height: 1px;margin: -1px;overflow: hidden;padding: 0;position: absolute;width: 1px;}#sk-container-id-1 div.sk-estimator {font-family: monospace;background-color: #f0f8ff;border: 1px dotted black;border-radius: 0.25em;box-sizing: border-box;margin-bottom: 0.5em;}#sk-container-id-1 div.sk-estimator:hover {background-color: #d4ebff;}#sk-container-id-1 div.sk-parallel-item::after {content: \"\";width: 100%;border-bottom: 1px solid gray;flex-grow: 1;}#sk-container-id-1 div.sk-label:hover label.sk-toggleable__label {background-color: #d4ebff;}#sk-container-id-1 div.sk-serial::before {content: \"\";position: absolute;border-left: 1px solid gray;box-sizing: border-box;top: 0;bottom: 0;left: 50%;z-index: 0;}#sk-container-id-1 div.sk-serial {display: flex;flex-direction: column;align-items: center;background-color: white;padding-right: 0.2em;padding-left: 0.2em;position: relative;}#sk-container-id-1 div.sk-item {position: relative;z-index: 1;}#sk-container-id-1 div.sk-parallel {display: flex;align-items: stretch;justify-content: center;background-color: white;position: relative;}#sk-container-id-1 div.sk-item::before, #sk-container-id-1 div.sk-parallel-item::before {content: \"\";position: absolute;border-left: 1px solid gray;box-sizing: border-box;top: 0;bottom: 0;left: 50%;z-index: -1;}#sk-container-id-1 div.sk-parallel-item {display: flex;flex-direction: column;z-index: 1;position: relative;background-color: white;}#sk-container-id-1 div.sk-parallel-item:first-child::after {align-self: flex-end;width: 50%;}#sk-container-id-1 div.sk-parallel-item:last-child::after {align-self: flex-start;width: 50%;}#sk-container-id-1 div.sk-parallel-item:only-child::after {width: 0;}#sk-container-id-1 div.sk-dashed-wrapped {border: 1px dashed gray;margin: 0 0.4em 0.5em 0.4em;box-sizing: border-box;padding-bottom: 0.4em;background-color: white;}#sk-container-id-1 div.sk-label label {font-family: monospace;font-weight: bold;display: inline-block;line-height: 1.2em;}#sk-container-id-1 div.sk-label-container {text-align: center;}#sk-container-id-1 div.sk-container {/* jupyter's `normalize.less` sets `[hidden] { display: none; }` but bootstrap.min.css set `[hidden] { display: none !important; }` so we also need the `!important` here to be able to override the default hidden behavior on the sphinx rendered scikit-learn.org. See: https://github.com/scikit-learn/scikit-learn/issues/21755 */display: inline-block !important;position: relative;}#sk-container-id-1 div.sk-text-repr-fallback {display: none;}</style><div id=\"sk-container-id-1\" class=\"sk-top-container\"><div class=\"sk-text-repr-fallback\"><pre>DecisionTreeClassifier(random_state=42)</pre><b>In a Jupyter environment, please rerun this cell to show the HTML representation or trust the notebook. <br />On GitHub, the HTML representation is unable to render, please try loading this page with nbviewer.org.</b></div><div class=\"sk-container\" hidden><div class=\"sk-item\"><div class=\"sk-estimator sk-toggleable\"><input class=\"sk-toggleable__control sk-hidden--visually\" id=\"sk-estimator-id-1\" type=\"checkbox\" checked><label for=\"sk-estimator-id-1\" class=\"sk-toggleable__label sk-toggleable__label-arrow\">DecisionTreeClassifier</label><div class=\"sk-toggleable__content\"><pre>DecisionTreeClassifier(random_state=42)</pre></div></div></div></div></div>"
            ]
          },
          "metadata": {},
          "execution_count": 32
        }
      ]
    },
    {
      "cell_type": "code",
      "source": [
        "# Fazer previsões no conjunto de teste\n",
        "y_pred = classificador.predict(X_test)"
      ],
      "metadata": {
        "id": "EquJkSKxa4Pc"
      },
      "execution_count": null,
      "outputs": []
    },
    {
      "cell_type": "code",
      "source": [
        "from sklearn.metrics import accuracy_score, classification_report, confusion_matrix\n"
      ],
      "metadata": {
        "id": "rdA_JrD0bYzg"
      },
      "execution_count": null,
      "outputs": []
    },
    {
      "cell_type": "code",
      "source": [
        "# Calculando a acuracia do sistema\n",
        "acuracia = accuracy_score(y_test, y_pred)\n",
        "print(f\"Acurácia: {acuracia * 100:.2f}%\")\n",
        "\n",
        "# Imprimindo o relatório de classificação\n",
        "print(\"Relatório de Classificação:\")\n",
        "print(classification_report(y_test, y_pred))\n",
        "\n",
        "# e agora imprimindo a matriz de confusao\n",
        "print(\"Matriz de Confusão:\")\n",
        "print(confusion_matrix(y_test, y_pred))"
      ],
      "metadata": {
        "colab": {
          "base_uri": "https://localhost:8080/"
        },
        "id": "dEkniKoHa-dk",
        "outputId": "3a173d60-4e4e-481b-91df-d5c47d86b296"
      },
      "execution_count": null,
      "outputs": [
        {
          "output_type": "stream",
          "name": "stdout",
          "text": [
            "Acurácia: 100.00%\n",
            "Relatório de Classificação:\n",
            "              precision    recall  f1-score   support\n",
            "\n",
            "           0       1.00      1.00      1.00       679\n",
            "           1       1.00      1.00      1.00       838\n",
            "\n",
            "    accuracy                           1.00      1517\n",
            "   macro avg       1.00      1.00      1.00      1517\n",
            "weighted avg       1.00      1.00      1.00      1517\n",
            "\n",
            "Matriz de Confusão:\n",
            "[[679   0]\n",
            " [  0 838]]\n"
          ]
        }
      ]
    },
    {
      "cell_type": "code",
      "source": [
        "import matplotlib.pyplot as plt\n"
      ],
      "metadata": {
        "id": "ao4CDDk1cXlG"
      },
      "execution_count": null,
      "outputs": []
    },
    {
      "cell_type": "code",
      "source": [
        "# gerando a figura da arvore de decisao, tava meio cofnuso usar o metodo de aula pro meu dataset, aí usei o matplotlib que meio que aprendi ano passado\n",
        "plt.figure(figsize=(20,10))\n",
        "tree.plot_tree(classificador, filled=True, feature_names=X.columns, class_names=classificador.classes_.astype(str), rounded=True)\n",
        "plt.show()"
      ],
      "metadata": {
        "colab": {
          "base_uri": "https://localhost:8080/",
          "height": 689
        },
        "id": "e2Je1aclbvIf",
        "outputId": "6d244b45-7e4b-4ccd-9140-15dab86e1bf6"
      },
      "execution_count": null,
      "outputs": [
        {
          "output_type": "display_data",
          "data": {
            "text/plain": [
              "<Figure size 2000x1000 with 1 Axes>"
            ],
            "image/png": "[encoded data removed]"
          },
          "metadata": {}
        }
      ]
    }
  ]
}