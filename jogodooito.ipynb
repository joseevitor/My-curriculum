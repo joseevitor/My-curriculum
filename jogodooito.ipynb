{
  "nbformat": 4,
  "nbformat_minor": 0,
  "metadata": {
    "colab": {
      "provenance": [],
      "authorship_tag": "ABX9TyO9uABVpA2VqCiGu2YCMLSe",
      "include_colab_link": true
    },
    "kernelspec": {
      "name": "python3",
      "display_name": "Python 3"
    },
    "language_info": {
      "name": "python"
    }
  },
  "cells": [
    {
      "cell_type": "markdown",
      "metadata": {
        "id": "view-in-github",
        "colab_type": "text"
      },
      "source": [
        "<a href=\"https://colab.research.google.com/github/joseevitor/My-curriculum/blob/main/jogodooito.ipynb\" target=\"_parent\"><img src=\"https://colab.research.google.com/assets/colab-badge.svg\" alt=\"Open In Colab\"/></a>"
      ]
    },
    {
      "cell_type": "code",
      "execution_count": 2,
      "metadata": {
        "id": "lE3jrOIcW3f_"
      },
      "outputs": [],
      "source": [
        "#import pandas as pd\n",
        "\n",
        "#from sklearn.model_selection import train_test_split\n",
        "\n",
        "#import numpy as np\n",
        "\n",
        "#jogo_do_oito = ([[1, 2, 3], [4, 5, 6], [7, 8,[]]])"
      ]
    },
    {
      "cell_type": "code",
      "source": [
        "#print(jogo_do_oito)"
      ],
      "metadata": {
        "colab": {
          "base_uri": "https://localhost:8080/"
        },
        "id": "Y1pMSaLe7pva",
        "outputId": "d0e5310f-d5ad-4c1c-b7cc-4f549b02b466"
      },
      "execution_count": 3,
      "outputs": [
        {
          "output_type": "stream",
          "name": "stdout",
          "text": [
            "[[1, 2, 3], [4, 5, 6], [7, 8, []]]\n"
          ]
        }
      ]
    },
    {
      "cell_type": "code",
      "source": [
        "#jgdoito = np.random.rand(3,3).range(0:8)"
      ],
      "metadata": {
        "colab": {
          "base_uri": "https://localhost:8080/",
          "height": 106
        },
        "id": "9aMVYTU2-qQG",
        "outputId": "a0b472d6-241a-4c20-c7aa-1181da8f30a7"
      },
      "execution_count": null,
      "outputs": [
        {
          "output_type": "error",
          "ename": "SyntaxError",
          "evalue": "invalid syntax (<ipython-input-25-d624e3150844>, line 1)",
          "traceback": [
            "\u001b[0;36m  File \u001b[0;32m\"<ipython-input-25-d624e3150844>\"\u001b[0;36m, line \u001b[0;32m1\u001b[0m\n\u001b[0;31m    jgdoito = np.random.rand(3,3).range(0:8)\u001b[0m\n\u001b[0m                                         ^\u001b[0m\n\u001b[0;31mSyntaxError\u001b[0m\u001b[0;31m:\u001b[0m invalid syntax\n"
          ]
        }
      ]
    },
    {
      "cell_type": "code",
      "source": [
        "from collections import deque\n",
        "\n",
        "# Função para encontrar a posição do espaço vazio\n",
        "def find_blank(puzzle):\n",
        "    for i in range(3):\n",
        "        for j in range(3):\n",
        "            if puzzle[i][j] == 0:\n",
        "                return i, j\n",
        "\n",
        "# Função para gerar os movimentos possíveis\n",
        "def generate_moves(puzzle):\n",
        "    moves = []\n",
        "    row, col = find_blank(puzzle)\n",
        "    if row > 0:\n",
        "        moves.append((row - 1, col))  # Movimento para cima\n",
        "    if row < 2:\n",
        "        moves.append((row + 1, col))  # Movimento para baixo\n",
        "    if col > 0:\n",
        "        moves.append((row, col - 1))  # Movimento para esquerda\n",
        "    if col < 2:\n",
        "        moves.append((row, col + 1))  # Movimento para direita\n",
        "    return moves\n",
        "\n",
        "# Função para trocar as posições no quebra-cabeça\n",
        "def swap(puzzle, pos1, pos2):\n",
        "    puzzle[pos1[0]][pos1[1]], puzzle[pos2[0]][pos2[1]] = puzzle[pos2[0]][pos2[1]], puzzle[pos1[0]][pos1[1]]\n",
        "\n",
        "# Função para verificar se o quebra-cabeça está resolvido\n",
        "def is_solved(puzzle):\n",
        "    return puzzle == [[1, 2, 3], [4, 5, 6], [7, 8, 0]]\n",
        "\n",
        "# Função para resolver o quebra-cabeça usando busca em largura\n",
        "def solve_puzzle(puzzle):\n",
        "    queue = deque([(puzzle, [])])  # Inicializa a fila com o estado inicial e uma lista vazia de movimentos\n",
        "    visited = set()  # Conjunto para manter o controle dos estados já visitados\n",
        "\n",
        "    while queue:\n",
        "        current_state, moves = queue.popleft()\n",
        "        visited.add(tuple(map(tuple, current_state)))  # Adiciona o estado atual ao conjunto de visitados\n",
        "\n",
        "        if is_solved(current_state):\n",
        "            return moves  # Retorna a sequência de movimentos para resolver o quebra-cabeça\n",
        "\n",
        "        for move in generate_moves(current_state):\n",
        "            new_state = [row[:] for row in current_state]  # Cria uma cópia do estado atual\n",
        "            swap(new_state, find_blank(new_state), move)  # Realiza o movimento\n",
        "\n",
        "            if tuple(map(tuple, new_state)) not in visited:  # Verifica se o novo estado já foi visitado\n",
        "                queue.append((new_state, moves + [move]))  # Adiciona o novo estado à fila\n",
        "\n",
        "    return None  # Retorna None se não encontrar uma solução\n",
        "\n",
        "# Exemplo de uso\n",
        "puzzle = [[1, 2, 3],\n",
        "          [4, 6, 5],\n",
        "          [7, 8, 0]]\n",
        "\n",
        "solution = solve_puzzle(puzzle)\n",
        "if solution:\n",
        "    print(\"Sequência de movimentos para resolver o quebra-cabeça:\")\n",
        "    for move in solution:\n",
        "        print(move)\n",
        "else:\n",
        "    print(\"Não foi possível encontrar uma solução.\")"
      ],
      "metadata": {
        "id": "7k0agUUi-qSc",
        "colab": {
          "base_uri": "https://localhost:8080/"
        },
        "outputId": "05f71de2-c237-4400-9ac6-30d873347d41"
      },
      "execution_count": 5,
      "outputs": [
        {
          "output_type": "stream",
          "name": "stdout",
          "text": [
            "Não foi possível encontrar uma solução.\n"
          ]
        }
      ]
    },
    {
      "cell_type": "code",
      "source": [
        "from heapq import heappush, heappop\n",
        "\n",
        "# Função para encontrar a posição do espaço vazio\n",
        "def find_blank(puzzle):\n",
        "    for i in range(3):\n",
        "        for j in range(3):\n",
        "            if puzzle[i][j] == 0:\n",
        "                return i, j\n",
        "\n",
        "# Função para gerar os movimentos possíveis\n",
        "def generate_moves(puzzle):\n",
        "    moves = []\n",
        "    row, col = find_blank(puzzle)\n",
        "    if row > 0:\n",
        "        moves.append((row - 1, col))  # Movimento para cima\n",
        "    if row < 2:\n",
        "        moves.append((row + 1, col))  # Movimento para baixo\n",
        "    if col > 0:\n",
        "        moves.append((row, col - 1))  # Movimento para esquerda\n",
        "    if col < 2:\n",
        "        moves.append((row, col + 1))  # Movimento para direita\n",
        "    return moves\n",
        "\n",
        "# Função para trocar as posições no quebra-cabeça\n",
        "def swap(puzzle, pos1, pos2):\n",
        "    puzzle[pos1[0]][pos1[1]], puzzle[pos2[0]][pos2[1]] = puzzle[pos2[0]][pos2[1]], puzzle[pos1[0]][pos1[1]]\n",
        "\n",
        "# Função para calcular o custo heurístico (número de peças fora do lugar)\n",
        "def heuristic(puzzle):\n",
        "    cost = 0\n",
        "    for i in range(3):\n",
        "        for j in range(3):\n",
        "            if puzzle[i][j] != 0 and puzzle[i][j] != 3 * i + j + 1:\n",
        "                cost += 1\n",
        "    return cost\n",
        "\n",
        "# Função para resolver o quebra-cabeça usando busca A*\n",
        "def solve_puzzle(puzzle):\n",
        "    heap = [(heuristic(puzzle), puzzle, [], 0)]  # Fila de prioridade (custo heurístico, estado atual, movimentos até agora, custo total)\n",
        "    visited = set()  # Conjunto para manter o controle dos estados já visitados\n",
        "\n",
        "    while heap:\n",
        "        _, current_state, moves, cost = heappop(heap)\n",
        "\n",
        "        if current_state == [[1, 2, 3], [4, 5, 6], [7, 8, 0]]:\n",
        "            return moves\n",
        "\n",
        "        visited.add(tuple(map(tuple, current_state)))  # Adiciona o estado atual ao conjunto de visitados\n",
        "\n",
        "        for move in generate_moves(current_state):\n",
        "            new_state = [row[:] for row in current_state]  # Cria uma cópia do estado atual\n",
        "            swap(new_state, find_blank(new_state), move)  # Realiza o movimento\n",
        "\n",
        "            if tuple(map(tuple, new_state)) not in visited:  # Verifica se o novo estado já foi visitado\n",
        "                new_cost = cost + 1\n",
        "                heappush(heap, (new_cost + heuristic(new_state), new_state, moves + [move], new_cost))  # Adiciona o novo estado à fila de prioridade\n",
        "\n",
        "    return None  # Retorna None se não encontrar uma solução\n",
        "\n",
        "# Exemplo de uso\n",
        "puzzle = [[1, 2, 3],\n",
        "          [4, 6, 5],\n",
        "          [7, 8, 0]]\n",
        "\n",
        "solution = solve_puzzle(puzzle)\n",
        "if solution:\n",
        "    print(\"Sequência de movimentos para resolver o quebra-cabeça:\")\n",
        "    for move in solution:\n",
        "        print(move)\n",
        "else:\n",
        "    print(\"Não foi possível encontrar uma solução.\")"
      ],
      "metadata": {
        "colab": {
          "base_uri": "https://localhost:8080/"
        },
        "id": "M4t6zEH3DQ3C",
        "outputId": "e8d8778e-c5d4-41ed-ae7a-22f5f6b24e3c"
      },
      "execution_count": 6,
      "outputs": [
        {
          "output_type": "stream",
          "name": "stdout",
          "text": [
            "Não foi possível encontrar uma solução.\n"
          ]
        }
      ]
    },
    {
      "cell_type": "code",
      "source": [
        "from heapq import heappush, heappop\n",
        "\n",
        "# Função para encontrar a posição do espaço vazio\n",
        "def find_blank(puzzle):\n",
        "    for i in range(3):\n",
        "        for j in range(3):\n",
        "            if puzzle[i][j] == 0:\n",
        "                return i, j\n",
        "\n",
        "\n",
        "def generate_moves(puzzle):\n",
        "    moves = []\n",
        "    row, col = find_blank(puzzle)\n",
        "    # Movimento para cima\n",
        "    if row > 0 and puzzle[row - 1][col] != 0:\n",
        "        moves.append((row - 1, col))\n",
        "    # Movimento para baixo\n",
        "    if row < 2 and puzzle[row + 1][col] != 0:\n",
        "        moves.append((row + 1, col))\n",
        "    # Movimento para esquerda\n",
        "    if col > 0 and puzzle[row][col - 1] != 0:\n",
        "        moves.append((row, col - 1))\n",
        "    # Movimento para direita\n",
        "    if col < 2 and puzzle[row][col + 1] != 0:\n",
        "        moves.append((row, col + 1))\n",
        "    return moves\n",
        "\n",
        "\n",
        "# Função para gerar os movimentos possíveis\n",
        "#def generate_moves(puzzle):\n",
        "#    moves = []\n",
        " #   row, col = find_blank(puzzle)\n",
        "  #  if row > 0:\n",
        "   #     moves.append((row - 1, col))  # Movimento para cima\n",
        "    #if row < 2:\n",
        "#        moves.append((row + 1, col))  # Movimento para baixo\n",
        " #   if col > 0:\n",
        "  #      moves.append((row, col - 1))  # Movimento para esquerda\n",
        "   # if col < 2:\n",
        "    #    moves.append((row, col + 1))  # Movimento para direita\n",
        "    #return moves\n",
        "\n",
        "# Função para trocar as posições no quebra-cabeça\n",
        "def swap(puzzle, pos1, pos2):\n",
        "    puzzle[pos1[0]][pos1[1]], puzzle[pos2[0]][pos2[1]] = puzzle[pos2[0]][pos2[1]], puzzle[pos1[0]][pos1[1]]\n",
        "\n",
        "# Função para calcular o custo heurístico (número de peças fora do lugar)\n",
        "def heuristic(puzzle):\n",
        "    cost = 0\n",
        "    for i in range(3):\n",
        "        for j in range(3):\n",
        "            if puzzle[i][j] != 0 and puzzle[i][j] != 3 * i + j + 1:\n",
        "                cost += 1\n",
        "    return cost\n",
        "\n",
        "# Função para resolver o quebra-cabeça usando busca A*\n",
        "def solve_puzzle(puzzle):\n",
        "    heap = [(heuristic(puzzle), puzzle, [], 0)]  # Fila de prioridade (custo heurístico, estado atual, movimentos até agora, custo total)\n",
        "    visited = set()  # Conjunto para manter o controle dos estados já visitados\n",
        "\n",
        "    while heap:\n",
        "        _, current_state, moves, cost = heappop(heap)\n",
        "\n",
        "        if current_state == [[1, 2, 3], [4, 5, 6], [7, 8, 0]]:\n",
        "            return moves\n",
        "\n",
        "        visited.add(tuple(map(tuple, current_state)))  # Adiciona o estado atual ao conjunto de visitados\n",
        "\n",
        "        for move in generate_moves(current_state):\n",
        "            new_state = [row[:] for row in current_state]  # Cria uma cópia do estado atual\n",
        "            swap(new_state, find_blank(new_state), move)  # Realiza o movimento\n",
        "\n",
        "            if tuple(map(tuple, new_state)) not in visited:  # Verifica se o novo estado já foi visitado\n",
        "                new_cost = cost + 1\n",
        "                heappush(heap, (new_cost + heuristic(new_state), new_state, moves + [move], new_cost))  # Adiciona o novo estado à fila de prioridade\n",
        "\n",
        "    return None  # Retorna None se não encontrar uma solução\n",
        "\n",
        "# Função para imprimir o quebra-cabeça\n",
        "def print_puzzle(puzzle):\n",
        "    for row in puzzle:\n",
        "        print(row)\n",
        "\n",
        "# Função para criar um quebra-cabeça personalizado\n",
        "def create_custom_puzzle():\n",
        "    puzzle = []\n",
        "    print(\"Digite os números de 0 a 8 para representar o quebra-cabeça, use 0 para representar o espaço vazio:\")\n",
        "    for i in range(3):\n",
        "        row = []\n",
        "        while len(row) < 3:\n",
        "            try:\n",
        "                num = int(input(f\"Digite o número da posição ({i},{len(row)}): \"))\n",
        "                if num < 0 or num > 8:\n",
        "                    print(\"Por favor, digite um número entre 0 e 8.\")\n",
        "                else:\n",
        "                    row.append(num)\n",
        "            except ValueError:\n",
        "                print(\"Por favor, digite um número válido.\")\n",
        "        puzzle.append(row)\n",
        "    return puzzle\n",
        "\n",
        "# Exemplo de uso\n",
        "print(\"Crie um quebra-cabeça personalizado:\")\n",
        "custom_puzzle = create_custom_puzzle()\n",
        "print(\"Quebra-cabeça personalizado:\")\n",
        "print_puzzle(custom_puzzle)\n",
        "\n",
        "solution = solve_puzzle(custom_puzzle)\n",
        "if solution:\n",
        "    print(\"\\nSequência de movimentos para resolver o quebra-cabeça:\")\n",
        "    for move in solution:\n",
        "        print(move)\n",
        "else:\n",
        "    print(\"Não foi possível encontrar uma solução.\")"
      ],
      "metadata": {
        "colab": {
          "base_uri": "https://localhost:8080/"
        },
        "id": "DYy6KfUeDrNr",
        "outputId": "92e9fabe-80ba-41b7-e108-126f61248f83"
      },
      "execution_count": 11,
      "outputs": [
        {
          "output_type": "stream",
          "name": "stdout",
          "text": [
            "Crie um quebra-cabeça personalizado:\n",
            "Digite os números de 0 a 8 para representar o quebra-cabeça, use 0 para representar o espaço vazio:\n",
            "Digite o número da posição (0,0): 1\n",
            "Digite o número da posição (0,1): 2\n",
            "Digite o número da posição (0,2): 3\n",
            "Digite o número da posição (1,0): 4\n",
            "Digite o número da posição (1,1): 5\n",
            "Digite o número da posição (1,2): 0\n",
            "Digite o número da posição (2,0): 7\n",
            "Digite o número da posição (2,1): 8\n",
            "Digite o número da posição (2,2): 6\n",
            "Quebra-cabeça personalizado:\n",
            "[1, 2, 3]\n",
            "[4, 5, 0]\n",
            "[7, 8, 6]\n",
            "\n",
            "Sequência de movimentos para resolver o quebra-cabeça:\n",
            "(2, 2)\n"
          ]
        }
      ]
    }
  ]
}