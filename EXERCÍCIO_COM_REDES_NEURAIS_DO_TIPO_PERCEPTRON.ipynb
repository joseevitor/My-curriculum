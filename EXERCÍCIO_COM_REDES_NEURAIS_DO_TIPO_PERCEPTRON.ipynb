{
  "nbformat": 4,
  "nbformat_minor": 0,
  "metadata": {
    "colab": {
      "provenance": [],
      "authorship_tag": "ABX9TyMTUrRXPdR3qqLXx6qpW7hD",
      "include_colab_link": true
    },
    "kernelspec": {
      "name": "python3",
      "display_name": "Python 3"
    },
    "language_info": {
      "name": "python"
    }
  },
  "cells": [
    {
      "cell_type": "markdown",
      "metadata": {
        "id": "view-in-github",
        "colab_type": "text"
      },
      "source": [
        "<a href=\"https://colab.research.google.com/github/joseevitor/My-curriculum/blob/main/EXERC%C3%8DCIO_COM_REDES_NEURAIS_DO_TIPO_PERCEPTRON.ipynb\" target=\"_parent\"><img src=\"https://colab.research.google.com/assets/colab-badge.svg\" alt=\"Open In Colab\"/></a>"
      ]
    },
    {
      "cell_type": "markdown",
      "source": [
        "Aluno José Vítor Miranda"
      ],
      "metadata": {
        "id": "XLN2XwhNbx9E"
      }
    },
    {
      "cell_type": "code",
      "execution_count": null,
      "metadata": {
        "id": "mpTnfj-uHqdl"
      },
      "outputs": [],
      "source": [
        "import numpy as np"
      ]
    },
    {
      "cell_type": "code",
      "source": [
        "# primeira coisa q eu tenho q fazer é transformar de string pra binario... tive tambem que padronizar o comprimento\n",
        "def stringprabinario(s, max_length):\n",
        "    bin_array = [int(b) for char in s for b in format(ord(char), '08b')]\n",
        "    if len(bin_array) < max_length:\n",
        "        bin_array.extend([0] * (max_length - len(bin_array)))\n",
        "    return bin_array"
      ],
      "metadata": {
        "id": "nO9C4d-EH354"
      },
      "execution_count": null,
      "outputs": []
    },
    {
      "cell_type": "code",
      "source": [
        "# o sexo e a profissao tambem precisam ser em binario\n",
        "sexo = {'Feminino': 0, 'Masculino': 1}\n",
        "\n",
        "profissao = {\n",
        "    'Atleta': 0,\n",
        "    'Cantor': 1,\n",
        "    'Cantor(a)': 2\n",
        "}"
      ],
      "metadata": {
        "id": "iZul9VD7I4Q_"
      },
      "execution_count": null,
      "outputs": []
    },
    {
      "cell_type": "code",
      "source": [
        "# Tabela dos dados passados no enunciado\n",
        "data = [\n",
        "    ('Cristiano Ronaldo', 'Masculino', 'Atleta'),\n",
        "    ('Axl Rose', 'Masculino', 'Cantor'),\n",
        "    ('Shakira', 'Feminino', 'Cantor(a)'),\n",
        "    ('Adele', 'Feminino', 'Cantor(a)'),\n",
        "    ('Marta', 'Feminino', 'Atleta'),\n",
        "    ('Hortência', 'Feminino', 'Atleta'),\n",
        "    ('Marcelo', 'Masculino', 'Atleta'),\n",
        "    ('Gustavo Borges', 'Masculino', 'Atleta')\n",
        "]"
      ],
      "metadata": {
        "id": "QORtHaQTJhBm"
      },
      "execution_count": null,
      "outputs": []
    },
    {
      "cell_type": "code",
      "source": [
        "# Determinar o comprimento máximo dos nomes codificados\n",
        "max_length = max(len(stringprabinario(name, 0)) for name, _, _ in data)\n"
      ],
      "metadata": {
        "id": "bAT7mDb_KuWM"
      },
      "execution_count": null,
      "outputs": []
    },
    {
      "cell_type": "code",
      "source": [
        "# Preparando a entrada e a saida\n",
        "X = [stringprabinario(name, max_length) for name, _, _ in data]\n",
        "y = [[sexo[sex], profissao[prof]] for _, sex, prof in data]"
      ],
      "metadata": {
        "id": "KHLjZ61BJsi6"
      },
      "execution_count": null,
      "outputs": []
    },
    {
      "cell_type": "code",
      "source": [
        "X = np.array(X)\n",
        "y = np.array(y)"
      ],
      "metadata": {
        "id": "CcIQCzeDJ82W"
      },
      "execution_count": null,
      "outputs": []
    },
    {
      "cell_type": "code",
      "source": [
        "y_sex = y[:, 0]\n",
        "y_prof = y[:, 1]"
      ],
      "metadata": {
        "id": "mYSTrOiUMmUo"
      },
      "execution_count": null,
      "outputs": []
    },
    {
      "cell_type": "code",
      "source": [
        "# Iniciando os parametros\n",
        "learning_rates = [0.01, 0.1, 1]\n",
        "epochs = [10, 100, 1000]"
      ],
      "metadata": {
        "id": "fW-vzf-mNYH_"
      },
      "execution_count": null,
      "outputs": []
    },
    {
      "cell_type": "code",
      "source": [
        "from sklearn.linear_model import Perceptron\n"
      ],
      "metadata": {
        "id": "O2mJxcZ0Np7x"
      },
      "execution_count": null,
      "outputs": []
    },
    {
      "cell_type": "code",
      "source": [
        "from sklearn.metrics import accuracy_score\n"
      ],
      "metadata": {
        "id": "NlpvOPtZUa_M"
      },
      "execution_count": null,
      "outputs": []
    },
    {
      "cell_type": "code",
      "source": [
        "resultados = []\n",
        "\n",
        "for lr in learning_rates:\n",
        "    for epoch in epochs:\n",
        "        for initialize_zeros in [True, False]:\n",
        "            # Criar e treinar o perceptron para sexo\n",
        "            perceptron_sex = Perceptron(max_iter=epoch, eta0=lr, random_state=0)\n",
        "            if initialize_zeros:\n",
        "                perceptron_sex.coef_ = np.zeros(X.shape[1])\n",
        "                perceptron_sex.intercept_ = np.zeros(1)\n",
        "            perceptron_sex.fit(X, y_sex)\n",
        "            y_pred_sex = perceptron_sex.predict(X)\n",
        "            accuracy_sex = accuracy_score(y_sex, y_pred_sex)\n",
        "\n",
        "            # Criar e treinar o perceptron para profissão\n",
        "            perceptron_prof = Perceptron(max_iter=epoch, eta0=lr, random_state=0)\n",
        "            if initialize_zeros:\n",
        "                perceptron_prof.coef_ = np.zeros(X.shape[1])\n",
        "                perceptron_prof.intercept_ = np.zeros(1)\n",
        "            perceptron_prof.fit(X, y_prof)\n",
        "            y_pred_prof = perceptron_prof.predict(X)\n",
        "            accuracy_prof = accuracy_score(y_prof, y_pred_prof)\n",
        "\n",
        "            resultados.append((lr, epoch, initialize_zeros, accuracy_sex, accuracy_prof))\n",
        "\n"
      ],
      "metadata": {
        "colab": {
          "base_uri": "https://localhost:8080/"
        },
        "id": "1SoKYzZeNipJ",
        "outputId": "514df8c4-6566-4a4e-846c-9df812149993"
      },
      "execution_count": null,
      "outputs": [
        {
          "output_type": "stream",
          "name": "stderr",
          "text": [
            "/usr/local/lib/python3.10/dist-packages/sklearn/linear_model/_stochastic_gradient.py:702: ConvergenceWarning: Maximum number of iteration reached before convergence. Consider increasing max_iter to improve the fit.\n",
            "  warnings.warn(\n",
            "/usr/local/lib/python3.10/dist-packages/sklearn/linear_model/_stochastic_gradient.py:702: ConvergenceWarning: Maximum number of iteration reached before convergence. Consider increasing max_iter to improve the fit.\n",
            "  warnings.warn(\n",
            "/usr/local/lib/python3.10/dist-packages/sklearn/linear_model/_stochastic_gradient.py:702: ConvergenceWarning: Maximum number of iteration reached before convergence. Consider increasing max_iter to improve the fit.\n",
            "  warnings.warn(\n",
            "/usr/local/lib/python3.10/dist-packages/sklearn/linear_model/_stochastic_gradient.py:702: ConvergenceWarning: Maximum number of iteration reached before convergence. Consider increasing max_iter to improve the fit.\n",
            "  warnings.warn(\n",
            "/usr/local/lib/python3.10/dist-packages/sklearn/linear_model/_stochastic_gradient.py:702: ConvergenceWarning: Maximum number of iteration reached before convergence. Consider increasing max_iter to improve the fit.\n",
            "  warnings.warn(\n",
            "/usr/local/lib/python3.10/dist-packages/sklearn/linear_model/_stochastic_gradient.py:702: ConvergenceWarning: Maximum number of iteration reached before convergence. Consider increasing max_iter to improve the fit.\n",
            "  warnings.warn(\n"
          ]
        }
      ]
    },
    {
      "cell_type": "code",
      "source": [
        "print(\"Resultados dos experimentos:\")\n",
        "\n",
        "for result in resultados:\n",
        "    print(f\"Taxa de aprendizado: {result[0]}, Épocas: {result[1]}, Pesos inicializados em zero: {result[2]}, Acurácia Sexo: {result[3]}, Acurácia Profissão: {result[4]}\")"
      ],
      "metadata": {
        "colab": {
          "base_uri": "https://localhost:8080/"
        },
        "id": "8JthW5ewW0fs",
        "outputId": "175d6d9e-f40f-4aef-c127-9b485e908f6d"
      },
      "execution_count": null,
      "outputs": [
        {
          "output_type": "stream",
          "name": "stdout",
          "text": [
            "Resultados dos experimentos:\n",
            "Taxa de aprendizado: 0.01, Épocas: 10, Pesos inicializados em zero: True, Acurácia Sexo: 1.0, Acurácia Profissão: 1.0\n",
            "Taxa de aprendizado: 0.01, Épocas: 10, Pesos inicializados em zero: False, Acurácia Sexo: 1.0, Acurácia Profissão: 1.0\n",
            "Taxa de aprendizado: 0.01, Épocas: 100, Pesos inicializados em zero: True, Acurácia Sexo: 1.0, Acurácia Profissão: 1.0\n",
            "Taxa de aprendizado: 0.01, Épocas: 100, Pesos inicializados em zero: False, Acurácia Sexo: 1.0, Acurácia Profissão: 1.0\n",
            "Taxa de aprendizado: 0.01, Épocas: 1000, Pesos inicializados em zero: True, Acurácia Sexo: 1.0, Acurácia Profissão: 1.0\n",
            "Taxa de aprendizado: 0.01, Épocas: 1000, Pesos inicializados em zero: False, Acurácia Sexo: 1.0, Acurácia Profissão: 1.0\n",
            "Taxa de aprendizado: 0.1, Épocas: 10, Pesos inicializados em zero: True, Acurácia Sexo: 1.0, Acurácia Profissão: 1.0\n",
            "Taxa de aprendizado: 0.1, Épocas: 10, Pesos inicializados em zero: False, Acurácia Sexo: 1.0, Acurácia Profissão: 1.0\n",
            "Taxa de aprendizado: 0.1, Épocas: 100, Pesos inicializados em zero: True, Acurácia Sexo: 1.0, Acurácia Profissão: 1.0\n",
            "Taxa de aprendizado: 0.1, Épocas: 100, Pesos inicializados em zero: False, Acurácia Sexo: 1.0, Acurácia Profissão: 1.0\n",
            "Taxa de aprendizado: 0.1, Épocas: 1000, Pesos inicializados em zero: True, Acurácia Sexo: 1.0, Acurácia Profissão: 1.0\n",
            "Taxa de aprendizado: 0.1, Épocas: 1000, Pesos inicializados em zero: False, Acurácia Sexo: 1.0, Acurácia Profissão: 1.0\n",
            "Taxa de aprendizado: 1, Épocas: 10, Pesos inicializados em zero: True, Acurácia Sexo: 1.0, Acurácia Profissão: 1.0\n",
            "Taxa de aprendizado: 1, Épocas: 10, Pesos inicializados em zero: False, Acurácia Sexo: 1.0, Acurácia Profissão: 1.0\n",
            "Taxa de aprendizado: 1, Épocas: 100, Pesos inicializados em zero: True, Acurácia Sexo: 1.0, Acurácia Profissão: 1.0\n",
            "Taxa de aprendizado: 1, Épocas: 100, Pesos inicializados em zero: False, Acurácia Sexo: 1.0, Acurácia Profissão: 1.0\n",
            "Taxa de aprendizado: 1, Épocas: 1000, Pesos inicializados em zero: True, Acurácia Sexo: 1.0, Acurácia Profissão: 1.0\n",
            "Taxa de aprendizado: 1, Épocas: 1000, Pesos inicializados em zero: False, Acurácia Sexo: 1.0, Acurácia Profissão: 1.0\n"
          ]
        }
      ]
    },
    {
      "cell_type": "code",
      "source": [
        "# Documentação dos resultados\n",
        "with open('resultados_experimentos.txt', 'w') as file:\n",
        "    file.write(\"Resultados dos Experimentos com o Perceptron\\n\")\n",
        "    file.write(\"========================================\\n\")\n",
        "    for result in resultados:\n",
        "        file.write(f\"Taxa de aprendizado: {result[0]}, Épocas: {result[1]}, Pesos inicializados em zero: {result[2]}, Acurácia Sexo: {result[3]}, Acurácia Profissão: {result[4]}\\n\")\n",
        "\n",
        "    file.write(\"\\nImpressões sobre os resultados:\\n\")\n",
        "    file.write(\"Com taxas de aprendizado maiores, o modelo converge mais rapidamente, porém pode oscilar se a taxa for muito alta.\\n\")\n",
        "    file.write(\"O número de épocas influencia diretamente na precisão, pois permite que a rede aprenda melhor com mais iterações.\\n\")\n",
        "    file.write(\"Inicializar os pesos com valores diferentes de zero pode ajudar na quebra de simetria e evitar que a rede fique presa em mínimos locais.\\n\")\n",
        "\n"
      ],
      "metadata": {
        "id": "exYHts75XEpZ"
      },
      "execution_count": null,
      "outputs": []
    },
    {
      "cell_type": "code",
      "source": [
        "import zipfile\n"
      ],
      "metadata": {
        "id": "LoWJBPadXQPU"
      },
      "execution_count": null,
      "outputs": []
    },
    {
      "cell_type": "code",
      "source": [
        "# Criação do arquivo zip\n",
        "with zipfile.ZipFile('RNA_perceptron_experimentos.zip', 'w') as zipf:\n",
        "    zipf.write('resultados_experimentos.txt')\n",
        "\n",
        "print(\"Arquivos empacotados com sucesso.\")"
      ],
      "metadata": {
        "colab": {
          "base_uri": "https://localhost:8080/"
        },
        "id": "-ns3K6gZXLYm",
        "outputId": "a31ab885-8407-4126-e27f-d06660af103e"
      },
      "execution_count": null,
      "outputs": [
        {
          "output_type": "stream",
          "name": "stdout",
          "text": [
            "Arquivos empacotados com sucesso.\n"
          ]
        }
      ]
    }
  ]
}